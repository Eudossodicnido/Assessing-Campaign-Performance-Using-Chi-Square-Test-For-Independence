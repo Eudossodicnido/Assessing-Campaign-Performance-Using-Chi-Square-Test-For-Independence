{
 "cells": [
  {
   "cell_type": "code",
   "execution_count": 1,
   "id": "9b8ebd45",
   "metadata": {},
   "outputs": [],
   "source": [
    "#Importing required packages\n",
    "import pandas as pd\n",
    "from scipy.stats import chi2_contingency, chi2"
   ]
  },
  {
   "cell_type": "code",
   "execution_count": 17,
   "id": "0015cc09",
   "metadata": {},
   "outputs": [],
   "source": [
    "#Importing data\n",
    "campaign_data=pd.read_excel(\"grocery_database.xlsx\", sheet_name=\"campaign_data\")"
   ]
  },
  {
   "cell_type": "code",
   "execution_count": 18,
   "id": "fcac1c45",
   "metadata": {},
   "outputs": [],
   "source": [
    "#Filtering out data\n",
    "campaign_data=campaign_data.loc[campaign_data[\"mailer_type\"]!=\"Control\"]"
   ]
  },
  {
   "cell_type": "code",
   "execution_count": 21,
   "id": "fa0a7ea7",
   "metadata": {},
   "outputs": [
    {
     "data": {
      "text/plain": [
       "array([[252, 123],\n",
       "       [209, 127]], dtype=int64)"
      ]
     },
     "execution_count": 21,
     "metadata": {},
     "output_type": "execute_result"
    }
   ],
   "source": [
    "#Getting observed frequncies\n",
    "observed_values=pd.crosstab(campaign_data['mailer_type'],campaign_data['signup_flag']).values\n",
    "observed_values"
   ]
  },
  {
   "cell_type": "code",
   "execution_count": 8,
   "id": "0d09a726",
   "metadata": {},
   "outputs": [
    {
     "name": "stdout",
     "output_type": "stream",
     "text": [
      "0.328 0.37797619047619047\n"
     ]
    }
   ],
   "source": [
    "#Getting signup values\n",
    "mailer1_signup_rate=123/(252+123)\n",
    "mailer2_signup_rate=127/(209+127)\n",
    "print(mailer1_signup_rate, mailer2_signup_rate)"
   ]
  },
  {
   "cell_type": "code",
   "execution_count": 22,
   "id": "0be3cc51",
   "metadata": {},
   "outputs": [],
   "source": [
    "#Stating hypotesis & setting acceptance criteria\n",
    "null_hypotesis=\"There is no relationship between mailer type and signup rate. They are independent\"\n",
    "alternate_hypotesis=\"There is a relationship between mailer type and signup rate. They are not independent\"\n",
    "acceptance_criteria=0.05"
   ]
  },
  {
   "cell_type": "code",
   "execution_count": 23,
   "id": "86fa5bb3",
   "metadata": {},
   "outputs": [
    {
     "name": "stdout",
     "output_type": "stream",
     "text": [
      "1.9414468614812481 0.16351152223398197\n"
     ]
    }
   ],
   "source": [
    "#Calculating expected frequencies & Chi Square Statistic\n",
    "chi2_statistic, p_value, dof,expected_values=chi2_contingency(observed_values, correction=False)\n",
    "print(chi2_statistic, p_value)"
   ]
  },
  {
   "cell_type": "code",
   "execution_count": 24,
   "id": "900fa2cc",
   "metadata": {},
   "outputs": [
    {
     "name": "stdout",
     "output_type": "stream",
     "text": [
      "3.841458820694124\n"
     ]
    }
   ],
   "source": [
    "#Finding critical value for our test\n",
    "critical_value=chi2.ppf(1-acceptance_criteria, dof)\n",
    "print(critical_value)"
   ]
  },
  {
   "cell_type": "code",
   "execution_count": 25,
   "id": "8912b2c2",
   "metadata": {},
   "outputs": [
    {
     "name": "stdout",
     "output_type": "stream",
     "text": [
      "As our chi square statistic of 1.9414468614812481 is lower than our critical value of 3.841458820694124, we retain the null hypotesis and conclude that: There is no relationship between mailer type and signup rate. They are independent\n"
     ]
    }
   ],
   "source": [
    "#Printing the results(Chi Square Statistic)\n",
    "if chi2_statistic>=critical_value:\n",
    "    print(f\"As our chi square statistic of {chi2_statistic} is higher than our critical value of {critical_value}, we reject the null hypotesis and conclude that: {alternate_hypotesis}\")\n",
    "else:\n",
    "    print(f\"As our chi square statistic of {chi2_statistic} is lower than our critical value of {critical_value}, we retain the null hypotesis and conclude that: {null_hypotesis}\")\n"
   ]
  },
  {
   "cell_type": "code",
   "execution_count": null,
   "id": "93813dfd",
   "metadata": {},
   "outputs": [],
   "source": []
  }
 ],
 "metadata": {
  "kernelspec": {
   "display_name": "Python 3 (ipykernel)",
   "language": "python",
   "name": "python3"
  },
  "language_info": {
   "codemirror_mode": {
    "name": "ipython",
    "version": 3
   },
   "file_extension": ".py",
   "mimetype": "text/x-python",
   "name": "python",
   "nbconvert_exporter": "python",
   "pygments_lexer": "ipython3",
   "version": "3.9.12"
  }
 },
 "nbformat": 4,
 "nbformat_minor": 5
}
